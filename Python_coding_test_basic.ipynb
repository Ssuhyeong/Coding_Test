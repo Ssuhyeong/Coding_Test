{
 "cells": [
  {
   "cell_type": "code",
   "execution_count": 1,
   "id": "e41cc9f0",
   "metadata": {},
   "outputs": [],
   "source": [
    "# online Judge\n",
    "# 해외 : 코드포스, 탑코더, 릿코드, 코드셰프\n",
    "# 국내 : 백준, 코드업, 프로그래머스, SW Expert Academy\n",
    "\n",
    "# 알고리즘 문제 풀이 방식의 코딩 테스트에서 가장 유리한 프로그래밍 언어는?\n",
    "# C++, Python -> 일반적인 기업 코딩테스트에서 좋음, 수행시간이 길다.\n",
    "\n",
    "# 프로그램 개발 방식의 코딩 테스트에서 가장 유리한 방식\n",
    "# 코테 후 오프라인에서 특별한 서버에서 특정한 API로 사용 특정한 서버\n",
    "\n",
    "# 온라인 코딩테스트에서는 온라인을 사용하는 것이 좋다 -> 리플릿, python 튜터, <오프라인> 파이참\n",
    "\n",
    "# 자신만의 소스코드를 관리하는 습관을 들이면 좋다 -> 자주 사용하는 알고리즘 코드를 라이브러리화 하면 좋다. "
   ]
  },
  {
   "cell_type": "code",
   "execution_count": 3,
   "id": "0647e79b",
   "metadata": {},
   "outputs": [],
   "source": [
    "# IT 기업 코딩  테스트 최신 출제 경향\n",
    "# 가장 출제 빈도가 높은 알고리즘 유형 -> 그리디 ( 쉬운 난이도 ), 구현, DFS/BFS를 활용한 탐색"
   ]
  },
  {
   "cell_type": "code",
   "execution_count": 4,
   "id": "af1fc45e",
   "metadata": {},
   "outputs": [],
   "source": [
    "# python보다 pypy가 더 빠를 수 있다. 하지만 공간 복자도가 높아지니 확인하면서 제출\n",
    "\n",
    "# 시간 제한이 1초인 문제를 만났을 때, 일반적인 기준 \n",
    "# 500 -> O(N^3)\n",
    "# 2000 -> O(N^2)\n",
    "# 100000 -> O(nlogn)\n",
    "# 10000000 -> o(n)"
   ]
  },
  {
   "cell_type": "code",
   "execution_count": 5,
   "id": "621774cf",
   "metadata": {},
   "outputs": [],
   "source": [
    "# 일반적인 알고리즘 문제 해결 과정\n",
    "# 1. 지문 읽기 및 컴퓨터적 사고\n",
    "# 2. 복잡도 분석\n",
    "# 3. 문제 해결을 위한 아이디어 찾기\n",
    "# 4. 소스코드 설계 및 코딩"
   ]
  },
  {
   "cell_type": "code",
   "execution_count": 7,
   "id": "9b3e6d41",
   "metadata": {},
   "outputs": [
    {
     "name": "stdout",
     "output_type": "stream",
     "text": [
      "time: 3.0040740966796875e-05\n"
     ]
    }
   ],
   "source": [
    "# 수행 시간 측정 소스코드\n",
    "import time\n",
    "start_time = time.time()\n",
    "\n",
    "end_time = time.time()\n",
    "print(\"time:\", end_time - start_time)\n"
   ]
  },
  {
   "cell_type": "code",
   "execution_count": 8,
   "id": "baf3b491",
   "metadata": {},
   "outputs": [],
   "source": [
    "# 자료형\n",
    "\n",
    "# 컴퓨터는 실수 값을 제대로 정확하게 파악하지 못한다. -> round 함수를 이용하여 정확하게 떨어지게 만듦\n",
    "# ex) round(123.456, 2)\n",
    "\n",
    "# python에서 나누기 연산자(/>는 나눠진 결과를 실수형으로 반환\n",
    "# 나머지(%), 몫(//), 거듭 제곱(**)"
   ]
  },
  {
   "cell_type": "code",
   "execution_count": 12,
   "id": "7813df6c",
   "metadata": {},
   "outputs": [
    {
     "name": "stdout",
     "output_type": "stream",
     "text": [
      "[0, 0, 0, 0, 0, 0, 0, 0, 0, 0]\n",
      "[0, 1, 2, 3, 4, 5, 6, 7, 8, 9]\n",
      "[1, 3, 5, 7, 9, 11, 13, 15, 17, 19]\n"
     ]
    }
   ],
   "source": [
    "# list\n",
    "\n",
    "# 크기가 N이고, 모든 값이 0인 1차원 리스트 초기화\n",
    "\n",
    "n = 10\n",
    "a = [0] * n\n",
    "print(a)"
   ]
  },
  {
   "cell_type": "code",
   "execution_count": 16,
   "id": "7638c893",
   "metadata": {},
   "outputs": [
    {
     "name": "stdout",
     "output_type": "stream",
     "text": [
      "[0, 1, 2, 3, 4, 5, 6, 7, 8, 9]\n",
      "[1, 3, 5, 7, 9, 11, 13, 15, 17, 19]\n",
      "[[0, 0, 0], [0, 0, 0], [0, 0, 0], [0, 0, 0]]\n",
      "[1, 2, 4]\n"
     ]
    }
   ],
   "source": [
    "# 리스트 컴프리헨션\n",
    "\n",
    "# 0부터 9까지의 수를 포함하는 리스트\n",
    "array = [i for i in range(10)]\n",
    "print(array)\n",
    "\n",
    "# 0부터 19까지의 수 중에서 홀수만 포함하는 리스트\n",
    "array = [i for i in range(20) if i % 2 == 1]\n",
    "print(array)\n",
    "\n",
    "# N x M 크기의 2차원 리스트 초기화\n",
    "n = 4\n",
    "m = 3\n",
    "array = [[0] * m for _ in range(n)]\n",
    "print(array)\n",
    "\n",
    "# 리스트 관련 기타 메소드\n",
    "\n",
    "# append() -> 1\n",
    "# sort() -> nlogn\n",
    "# reserve() -> n\n",
    "# insert() -> n\n",
    "# count() -> n\n",
    "# remove() -> n\n",
    "\n",
    "# 리스트에서 특정 값을 가지는 원소를 모두 제거\n",
    "\n",
    "a = [1, 2, 3, 4, 5, 5, 5]\n",
    "remove_set = {3, 5}\n",
    "\n",
    "result = [i for i in a if i not in remove_set]\n",
    "print(result)"
   ]
  },
  {
   "cell_type": "code",
   "execution_count": 17,
   "id": "5924e2e1",
   "metadata": {},
   "outputs": [],
   "source": [
    "# 문자열 자료형\n",
    "\n",
    "# 문자열 변수에는 덧셈, 곱셈을 할 수 있음\n",
    "# 문자열 변수도 인덱싱, 슬라이싱 가능 -> 변경은 불가능"
   ]
  },
  {
   "cell_type": "code",
   "execution_count": 18,
   "id": "3321d89c",
   "metadata": {},
   "outputs": [],
   "source": [
    "# 튜플 자료형\n",
    "\n",
    "# 튜플은 한 번 선언된 값을 변경할 수 없다. \n",
    "# 소괄호를 사용\n",
    "# 튜플은 리스트를 적게 사용한다. \n",
    "\n",
    "# 일반적으로 서로 다른 성질의 데이터를 관리해야 할때 -> 최단 경로 알고리즘에서 사용\n",
    "# 해싱의 키 값으로 사용해야 할 때 -> 변경이 불가능하므로 키 값으로 사용될 수 있다. \n",
    "# 메모리를 효율적으로 사용해야 할 떄"
   ]
  },
  {
   "cell_type": "code",
   "execution_count": 19,
   "id": "a4276168",
   "metadata": {},
   "outputs": [],
   "source": [
    "# 사전 자료형 (dictionary)\n",
    "\n",
    "# 키와 값의 쌍을 데이터로 가지는 자료형\n",
    "# '변경 불가능한 자료형'을 키로 사용할 수 있음\n",
    "# 사전 자료형은 해시 테이블을 이용하므로 데이터의 조회 및 수정에 있어 O(1)의 시간으로 처리 가능\n",
    "\n",
    "# 키 데이터만 뽑 -> key()\n",
    "# 값만  -> values()"
   ]
  },
  {
   "cell_type": "code",
   "execution_count": 20,
   "id": "e6ce8c1e",
   "metadata": {},
   "outputs": [],
   "source": [
    "# 집합 자료형 (set)\n",
    "\n",
    "# 중복을 허용하지 않음\n",
    "# 순서가 없음\n",
    "\n",
    "# 집합은 리스트 혹은 문자열을 이용해서 초기화 할 수 있음\n",
    "# O(1)\n",
    "\n",
    "# 집합의 연산 -> 합집합, 교집합, 차집합\n",
    "# add(값), updata([값들]), remove(값)"
   ]
  },
  {
   "cell_type": "code",
   "execution_count": 25,
   "id": "2d24db1b",
   "metadata": {},
   "outputs": [
    {
     "name": "stdout",
     "output_type": "stream",
     "text": [
      "\n",
      "정답은 7입니다. \n"
     ]
    }
   ],
   "source": [
    "# 기본 입출력\n",
    "\n",
    "# input() -> 한 줄의 문자열을 입력 받는 함수\n",
    "# map() -> 리스트의 모든 원소에 각각 특정한 함수를 적용할 때\n",
    "\n",
    "# 공백 기준으로 구분된 데이터를 입력 받을 때\n",
    "# list(map(int, input().split()))\n",
    "\n",
    "# 입력을 최대한 빠르게 받아야 하는 경우 -> sys 라이브러리\n",
    "import sys\n",
    "\n",
    "data = sys.stdin.readline().rstrip()\n",
    "print(data)\n",
    "\n",
    "# 표준 출력 함수 -> print(), end를 활용해서 격자 조절\n",
    "\n",
    "# f-string 문자열 앞에 접두사 'f'를 붙여 사용한다 -> 변수명을 넣어 문자열과 정수를 함께 넣을 수 있음\n",
    "answer = 7\n",
    "print(f'정답은 {answer}입니다. ')\n",
    "\n",
    "# continue 함수 해당 함수에 도달하면 조건문 한번을 건너뛰고 다음을 수행함"
   ]
  },
  {
   "cell_type": "code",
   "execution_count": 26,
   "id": "2e79ca5a",
   "metadata": {},
   "outputs": [],
   "source": [
    "# 함수\n",
    "\n",
    "# global 키워드 -> 변수를 지정하면 해당 함수에서는 지역 변수를 만들지 않고, 함수 바깥에 선언된 변수를 바로 참조\n",
    "# python의 함수는 여러 개의 반환 값을 가질 수 있다 -> packing"
   ]
  },
  {
   "cell_type": "code",
   "execution_count": 27,
   "id": "4da683d0",
   "metadata": {},
   "outputs": [
    {
     "name": "stdout",
     "output_type": "stream",
     "text": [
      "[('이순신', 32), ('홍길동', 50), ('이무개', 74)]\n",
      "[('이순신', 32), ('홍길동', 50), ('이무개', 74)]\n"
     ]
    }
   ],
   "source": [
    "# 람다 표현식 -> 함수를 한 줄에 작성할 수 있다. \n",
    "\n",
    "# (lambda 파라미터 : 출력)(인수) -> 한번 사용하고 말 경우 유용함\n",
    "\n",
    "# 예제 람다로 두번째 요소로 정렬하기\n",
    "array = [('홍길동', 50), ('이순신', 32), ('이무개', 74)]\n",
    "\n",
    "def my_key(x):\n",
    "    return x[1]\n",
    "\n",
    "print(sorted(array, key=my_key))\n",
    "print(sorted(array, key=lambda x:x[1]))"
   ]
  },
  {
   "cell_type": "code",
   "execution_count": 32,
   "id": "8b51d12a",
   "metadata": {},
   "outputs": [
    {
     "name": "stdout",
     "output_type": "stream",
     "text": [
      "[('A', 'B', 'C'), ('A', 'C', 'B'), ('B', 'A', 'C'), ('B', 'C', 'A'), ('C', 'A', 'B'), ('C', 'B', 'A')]\n",
      "[('A', 'B'), ('A', 'C'), ('B', 'C')]\n",
      "3\n",
      "1\n",
      "{'red': 2, 'blue': 3, 'green': 1}\n"
     ]
    }
   ],
   "source": [
    "# 실전에서 유용한 라이브러리\n",
    "\n",
    "# 내장함수\n",
    "\n",
    "# itertools : 파이썬에서 반복되는 형태의 데이터를 처리하기 위한 유용한 기능 -> 순열, 조합\n",
    "\n",
    "# heapq : 힙 자료구조를 제공 -> 우선순위 큐 기능을 구현하기 위함\n",
    "\n",
    "# bisect ; 이진 탐색 기능\n",
    "\n",
    "# collections : 데크, 카운터 등의 유용한 자료구조\n",
    "\n",
    "# math : 수학적 기능\n",
    "# sum() 함, min(), max(), eval() 수식을 계산한 결과를 반환해준다. \n",
    "# sorted() -> 정렬한 결과를 반환한다. reverse, with key 로 원하는 대로 정렬\n",
    "\n",
    "# 순열과 조합\n",
    "# 순열 -> 서로 다른 n개에서 서로 다른 r개를 선택하여 일렬로 나열하는 것\n",
    "# 조합 -> 서로 다른 n개에서 순서에 상관 없이 서로 다른 r개를 선택하는 것\n",
    "\n",
    "# 순열 라이브러리\n",
    "\n",
    "from itertools import permutations\n",
    "\n",
    "data = ['A', 'B', 'C']\n",
    "\n",
    "result = list(permutations(data, 3))\n",
    "print(result)\n",
    "\n",
    "# 조합 라이브러리\n",
    "\n",
    "from itertools import combinations\n",
    "\n",
    "data = ['A', 'B', 'C']\n",
    "\n",
    "result = list(combinations(data, 2))\n",
    "print(result)\n",
    "\n",
    "# Counter\n",
    "# collections 라이브러리의 Counter는 등장 횟수를 세는 기능을 제공\n",
    "# 리스트와 같은 반복 가능한 객체가 주어졌을 때 내부의 원소가 몇 번씩 등장했는지를 알려준다.\n",
    "\n",
    "from collections import Counter\n",
    "\n",
    "counter = Counter(['red', 'blue', 'red', 'green', 'blue', 'blue'])\n",
    "\n",
    "print(counter['blue'])\n",
    "print(counter['green'])\n",
    "print(dict(counter))\n",
    "\n",
    "# math -> gcd() 함수 최대 공약수\n",
    "# 최대 공배수 -> a * b // math.gcd(a, b)"
   ]
  },
  {
   "cell_type": "code",
   "execution_count": null,
   "id": "90376a53",
   "metadata": {},
   "outputs": [],
   "source": []
  }
 ],
 "metadata": {
  "kernelspec": {
   "display_name": "Python 3 (ipykernel)",
   "language": "python",
   "name": "python3"
  },
  "language_info": {
   "codemirror_mode": {
    "name": "ipython",
    "version": 3
   },
   "file_extension": ".py",
   "mimetype": "text/x-python",
   "name": "python",
   "nbconvert_exporter": "python",
   "pygments_lexer": "ipython3",
   "version": "3.9.12"
  }
 },
 "nbformat": 4,
 "nbformat_minor": 5
}
