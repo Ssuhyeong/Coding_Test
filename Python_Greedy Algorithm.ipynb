{
 "cells": [
  {
   "cell_type": "code",
   "execution_count": 4,
   "id": "3ae61253",
   "metadata": {},
   "outputs": [
    {
     "name": "stdout",
     "output_type": "stream",
     "text": [
      "6\n"
     ]
    }
   ],
   "source": [
    "# <문제> 거스름 돈 :  문제 해결 아이디어\n",
    "n = 1260\n",
    "count = 0\n",
    "array = [500, 100, 50, 10]\n",
    "\n",
    "for coin in array :\n",
    "    count += n // coin\n",
    "    n %= coin\n",
    "    \n",
    "print(count)\n",
    "\n",
    "# 시간 복잡도 O(K)\n",
    "# 내 풀이도 똑같으니 생략"
   ]
  },
  {
   "cell_type": "code",
   "execution_count": 16,
   "id": "7e1c25aa",
   "metadata": {},
   "outputs": [
    {
     "name": "stdout",
     "output_type": "stream",
     "text": [
      "17 4\n",
      "3\n"
     ]
    }
   ],
   "source": [
    "# <문제> 1이 될 때까지 : 문제 설명\n",
    "# N에서 1을 뺍니다. , N을 K로 나눕니다. \n",
    "\n",
    "n, k = map(int, input().split())\n",
    "result = 0\n",
    "\n",
    "while True :\n",
    "    target = (n // k) * k\n",
    "    result += (n - target)\n",
    "\n",
    "    n = target\n",
    "    if n < k :\n",
    "        break\n",
    "    result += 1\n",
    "    n //= k\n",
    "    \n",
    "result += (n - 1)\n",
    "print(result)\n"
   ]
  },
  {
   "cell_type": "code",
   "execution_count": 4,
   "id": "b14fb58e",
   "metadata": {},
   "outputs": [
    {
     "name": "stdout",
     "output_type": "stream",
     "text": [
      "12345\n",
      "180\n"
     ]
    }
   ],
   "source": [
    "# <문제> 곱하기 혹은 더하기 : 문제 설명\n",
    "\n",
    "data = input()\n",
    "\n",
    "result = int(data[0])\n",
    "\n",
    "for i in range(1, len(data)) :\n",
    "    num = int(data[i])\n",
    "    if num <= 1 or result <= 1:\n",
    "        result += num\n",
    "    else :\n",
    "        result *= num\n",
    "        \n",
    "print(result)        "
   ]
  },
  {
   "cell_type": "code",
   "execution_count": 2,
   "id": "1cebd709",
   "metadata": {},
   "outputs": [],
   "source": [
    "# <문제> 모험가 길드 : 문제 설명\n",
    "# 공포도가 X인 모험가는 반드시 X명 이상으로 구성한 모험가 그룹에 참여\n",
    "# N명의 모험가에 대한 정보가 주어졌을 때, 여행을 떠날 수 있는 그룹 수의 최대값"
   ]
  },
  {
   "cell_type": "code",
   "execution_count": 3,
   "id": "d6bc800d",
   "metadata": {},
   "outputs": [],
   "source": [
    "# 구현(Implementation)\n",
    "# 풀이를 떠올리는 것은 쉽지만 소스코드로 옮기기 어려운 문제\n",
    "\n",
    "# 1. 알고리즘은 간단한데 코드가 지나칠 만큼 길어지는 문제\n",
    "# 2. 실수 연산을 다루고, 특정 소수점 자리까지 출력해야 하는 문제\n",
    "# 3. 문자열을 특정한 기준에 따라서 끊어 처리해야 문제\n",
    "# 4, 적절한 라이브러리를 찾아서 사용해야 하는 문제 -> 순열, 조합\n",
    "\n",
    "# 행렬에서 방향 벡터가 자주 활용된다. "
   ]
  },
  {
   "cell_type": "code",
   "execution_count": 11,
   "id": "fd07ea2d",
   "metadata": {},
   "outputs": [
    {
     "name": "stdout",
     "output_type": "stream",
     "text": [
      "5\n",
      "[0, 0, 0, 0, 0]\n"
     ]
    }
   ],
   "source": [
    "# <문제> 상하좌우 :문ㄴ제 \n",
    "\n",
    "n = \n",
    "array = [[i] * n for i in range(n)]\n",
    "print(array[0])"
   ]
  },
  {
   "cell_type": "code",
   "execution_count": 4,
   "id": "234c4d50",
   "metadata": {},
   "outputs": [
    {
     "name": "stdout",
     "output_type": "stream",
     "text": [
      "20\n",
      "37125\n"
     ]
    }
   ],
   "source": [
    "# <문제> 시각 : 이코테가 제시한 정답 -> 시간 복잡도가 높음 O(n^3)\n",
    "n = int(input())\n",
    "\n",
    "count = 0\n",
    "\n",
    "for i in range(n + 1):\n",
    "    for j in range(60) :\n",
    "        for k in range(60) :\n",
    "            if '3' in str(i) + str(j) + str(k) :\n",
    "                count += 1\n",
    "print(count)"
   ]
  },
  {
   "cell_type": "code",
   "execution_count": 5,
   "id": "fa666ead",
   "metadata": {},
   "outputs": [
    {
     "name": "stdout",
     "output_type": "stream",
     "text": [
      "20\n",
      "37125\n"
     ]
    }
   ],
   "source": [
    "# <문제> 시각 : 내가 제시한 정답\n",
    "\n",
    "n = int(input())\n",
    "sum = 0\n",
    "\n",
    "for i in range(n+1) :\n",
    "    if i == 3 or i == 13 or i == 23 :\n",
    "        sum += 3600\n",
    "    else :\n",
    "        sum += 1575\n",
    "print(sum)"
   ]
  },
  {
   "cell_type": "code",
   "execution_count": 15,
   "id": "fa223f64",
   "metadata": {},
   "outputs": [
    {
     "name": "stdout",
     "output_type": "stream",
     "text": [
      "a2\n",
      "3\n"
     ]
    }
   ],
   "source": [
    "# <문제> 왕실의 나이트 : 이코테 정답\n",
    "\n",
    "# 현재 나이트의 위치 입력받기\n",
    "input_data = input()\n",
    "row = int(input_data[1])\n",
    "column = int(ord(input_data[0])) - int(ord('a')) + 1\n",
    "\n",
    "# 나이트가 이동할 수 있는 8가지 방향 정의\n",
    "steps = [(-2, -1), (-1, -2), (1, -2), (2, -1), (2, 1), (1, 2), (-1, 2), (-2, 1)]\n",
    "\n",
    "# 8가지 방향에 대하여 각 위치로 이동이 가능한지 확인\n",
    "result = 0\n",
    "\n",
    "for step in steps : \n",
    "    next_row = row + step[0]\n",
    "    next_column = column + step[1]\n",
    "    if next_row >= 1 and next_row <= 8 and next_column >= 1 and next_column <=8 :\n",
    "        result += 1\n",
    "print(result)"
   ]
  },
  {
   "cell_type": "code",
   "execution_count": 16,
   "id": "14ac3b24",
   "metadata": {},
   "outputs": [
    {
     "name": "stdout",
     "output_type": "stream",
     "text": [
      "a2\n",
      "3\n"
     ]
    }
   ],
   "source": [
    "# <문제> 왕실의 나이트 : 내가 제시한 정답\n",
    "\n",
    "n = input()\n",
    "n, m = n[0], int(n[1])\n",
    "\n",
    "count = 0\n",
    "\n",
    "if n == 'a' :\n",
    "    n = 1\n",
    "elif n == 'b' :\n",
    "    n = 2\n",
    "elif n == 'c' :\n",
    "    n = 3\n",
    "elif n == 'd' :\n",
    "    n = 4\n",
    "elif n == 'e' :\n",
    "    n = 5\n",
    "elif n == 'f' :\n",
    "    n = 6\n",
    "elif n == 'g' :\n",
    "    n = 7\n",
    "else :\n",
    "    n = 8\n",
    "    \n",
    "if n - 2 > 0 :\n",
    "    if m - 1 > 0 :\n",
    "        count += 1\n",
    "    if m + 1 < 9 :\n",
    "        count += 1\n",
    "if n + 2 < 9 : \n",
    "    if m - 1 > 0 :\n",
    "        count += 1\n",
    "    if m + 1 < 9 : \n",
    "        count += 1\n",
    "        \n",
    "if m - 2 > 0 :\n",
    "    if n - 1 > 0 :\n",
    "        count += 1\n",
    "    if n + 1 < 9 :\n",
    "        count += 1\n",
    "if m + 2 < 9 :\n",
    "    if n - 1 > 0 :\n",
    "        count += 1\n",
    "    if n + 1 < 9 :\n",
    "        count += 1\n",
    "        \n",
    "print(count)\n",
    "\n"
   ]
  },
  {
   "cell_type": "code",
   "execution_count": null,
   "id": "bcb93cac",
   "metadata": {},
   "outputs": [],
   "source": [
    "# <문제> 문자열 재정렬 : 이코테 풀이 \n",
    "\n",
    "data = input()\n",
    "result = []\n",
    "value = 0\n",
    "\n",
    "for x in data : \n",
    "    if x.isalpha():\n",
    "        result.append(x)\n",
    "    else :\n",
    "        value += int(x)\n",
    "        \n",
    "result.sort()\n",
    "\n",
    "if value != 0 :\n",
    "    result.append(str(value))\n",
    "    \n",
    "print('', join(result))"
   ]
  },
  {
   "cell_type": "code",
   "execution_count": null,
   "id": "0d7598b9",
   "metadata": {},
   "outputs": [],
   "source": [
    "# <문제> 문자열 재정렬 : 내가 푼 풀이\n",
    "\n",
    "n = input()\n",
    "sum = 0\n",
    "result = []\n",
    "\n",
    "for i in n :\n",
    "    if i.isalpha() :\n",
    "        result.append(i)\n",
    "    else :\n",
    "        sum += int(i)\n",
    "\n",
    "result = sorted(result)\n",
    "\n",
    "if sum != 0 :\n",
    "    result.append(str(sum))\n",
    "\n",
    "for i in result :\n",
    "    print(i, end='')"
   ]
  }
 ],
 "metadata": {
  "kernelspec": {
   "display_name": "Python 3 (ipykernel)",
   "language": "python",
   "name": "python3"
  },
  "language_info": {
   "codemirror_mode": {
    "name": "ipython",
    "version": 3
   },
   "file_extension": ".py",
   "mimetype": "text/x-python",
   "name": "python",
   "nbconvert_exporter": "python",
   "pygments_lexer": "ipython3",
   "version": "3.9.12"
  }
 },
 "nbformat": 4,
 "nbformat_minor": 5
}
