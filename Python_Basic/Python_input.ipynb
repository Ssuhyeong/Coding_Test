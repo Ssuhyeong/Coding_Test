{
 "cells": [
  {
   "cell_type": "code",
   "execution_count": null,
   "id": "2d06744a",
   "metadata": {},
   "outputs": [],
   "source": [
    "# 파이썬 코딩테스트 입력 정리\n",
    "# 파일로 입력받기\n",
    "import sys\n",
    "sys.stdin = open('input.txt', \"r\")"
   ]
  },
  {
   "cell_type": "code",
   "execution_count": null,
   "id": "58bc77a0",
   "metadata": {},
   "outputs": [],
   "source": [
    "# 한줄을 읽어서 정수로 변환\n",
    "a = int(sys.stdin.readline())"
   ]
  },
  {
   "cell_type": "code",
   "execution_count": null,
   "id": "f176c7b1",
   "metadata": {},
   "outputs": [],
   "source": [
    "# 한줄을 읽고 공백으로 구분된 정수를 입력받기\n",
    "a, b, c = map(int, sys.stdin.readline().split())"
   ]
  },
  {
   "cell_type": "code",
   "execution_count": null,
   "id": "34401771",
   "metadata": {},
   "outputs": [],
   "source": [
    "# 임의의 개수의 정수를 한줄에 입력받아 리스트에 저장할 때\n",
    "data = list(map(int, sys.stdin.readline().split()))"
   ]
  },
  {
   "cell_type": "code",
   "execution_count": null,
   "id": "10a09f70",
   "metadata": {},
   "outputs": [],
   "source": [
    "# 임의의 개수의 정수를 n줄 입력받아 2차원 리스트에 저장할 때\n",
    "import sys\n",
    "data =[]\n",
    "n = int(sys.stdin.readline())\n",
    "for i in range(n):\n",
    "    data.append(list(map(int, sys.stdin.readline().split())))"
   ]
  },
  {
   "cell_type": "code",
   "execution_count": null,
   "id": "926e9e33",
   "metadata": {},
   "outputs": [],
   "source": [
    "# 문자열 n줄을 입력받아 리스트에 저장할 때\n",
    "\n",
    "n = int(sys.stdin.readline())\n",
    "data = [sys.stdin.readline().strip() for i in range(n)]"
   ]
  },
  {
   "cell_type": "code",
   "execution_count": null,
   "id": "4100e9f7",
   "metadata": {},
   "outputs": [],
   "source": []
  }
 ],
 "metadata": {
  "kernelspec": {
   "display_name": "Python 3 (ipykernel)",
   "language": "python",
   "name": "python3"
  },
  "language_info": {
   "codemirror_mode": {
    "name": "ipython",
    "version": 3
   },
   "file_extension": ".py",
   "mimetype": "text/x-python",
   "name": "python",
   "nbconvert_exporter": "python",
   "pygments_lexer": "ipython3",
   "version": "3.9.12"
  }
 },
 "nbformat": 4,
 "nbformat_minor": 5
}
