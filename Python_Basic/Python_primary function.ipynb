{
 "cells": [
  {
   "cell_type": "code",
   "execution_count": 20,
   "id": "df05f20f",
   "metadata": {},
   "outputs": [
    {
     "name": "stdout",
     "output_type": "stream",
     "text": [
      "[1, 2, 3, 4, [3, 4]]\n"
     ]
    }
   ],
   "source": [
    "# append : 리스트 끝에 원소를 추가\n",
    "x = [1, 2, 3, 4]\n",
    "x.append([3, 4])\n",
    "print(x)"
   ]
  },
  {
   "cell_type": "code",
   "execution_count": 21,
   "id": "8f66023c",
   "metadata": {},
   "outputs": [
    {
     "name": "stdout",
     "output_type": "stream",
     "text": [
      "[1, 2, 3, 4, 3, 4]\n"
     ]
    }
   ],
   "source": [
    "# extend : 리스트 끝에 모든 원소 추가\n",
    "x = [1, 2, 3, 4]\n",
    "x.extend([3, 4])\n",
    "print(x)"
   ]
  },
  {
   "cell_type": "code",
   "execution_count": 26,
   "id": "5a454057",
   "metadata": {},
   "outputs": [
    {
     "name": "stdout",
     "output_type": "stream",
     "text": [
      "[1, 2, 3, 4, 3, 4] [1, 2, 3, 4, 3, 4]\n",
      "[1, 2, 3, 4] [1, 2, 3, 4, 3, 4]\n"
     ]
    }
   ],
   "source": [
    "# copy : 원본에 영향을 주지 않기 위해서 사용\n",
    "\n",
    "x = [1, 2, 3, 4]\n",
    "y = x\n",
    "y.extend([3, 4])\n",
    "print(x, y)\n",
    "\n",
    "z = [1, 2, 3, 4]\n",
    "a = z.copy()\n",
    "a.extend([3, 4])\n",
    "print(z, a)"
   ]
  },
  {
   "cell_type": "code",
   "execution_count": 27,
   "id": "db1f225b",
   "metadata": {},
   "outputs": [
    {
     "name": "stdout",
     "output_type": "stream",
     "text": [
      "[1, 2, 3, 4, 5]\n",
      "[]\n"
     ]
    }
   ],
   "source": [
    "# clear ; 리스트 안의 원소 모두 삭제\n",
    "\n",
    "x = [1, 2, 3, 4, 5]\n",
    "print(x)\n",
    "x.clear()\n",
    "print(x)"
   ]
  },
  {
   "cell_type": "code",
   "execution_count": 28,
   "id": "dca0f6de",
   "metadata": {},
   "outputs": [
    {
     "data": {
      "text/plain": [
       "3"
      ]
     },
     "execution_count": 28,
     "metadata": {},
     "output_type": "execute_result"
    }
   ],
   "source": [
    "# count(a) : 리스트 안에 원소 a의 개수 반환\n",
    "x = [1, 6, 3, 6, 5, 6, 7]\n",
    "x.count(6)"
   ]
  },
  {
   "cell_type": "code",
   "execution_count": 29,
   "id": "fab06887",
   "metadata": {},
   "outputs": [
    {
     "data": {
      "text/plain": [
       "1"
      ]
     },
     "execution_count": 29,
     "metadata": {},
     "output_type": "execute_result"
    }
   ],
   "source": [
    "# index : 리스트 값의 위치를 반환\n",
    "x = [5, 8, 3]\n",
    "x.index(8)"
   ]
  },
  {
   "cell_type": "code",
   "execution_count": 31,
   "id": "7d771da6",
   "metadata": {},
   "outputs": [
    {
     "data": {
      "text/plain": [
       "[1, 7, 5, 2, 8, 4]"
      ]
     },
     "execution_count": 31,
     "metadata": {},
     "output_type": "execute_result"
    }
   ],
   "source": [
    "# insert(a, b) : 리스트의 a위치에 b원소 삽입\n",
    "x = [1, 7, 2, 8, 4]\n",
    "x.insert(2, 5)\n",
    "x"
   ]
  },
  {
   "cell_type": "code",
   "execution_count": 32,
   "id": "389f50eb",
   "metadata": {},
   "outputs": [
    {
     "data": {
      "text/plain": [
       "[0, 4, 6, 8]"
      ]
     },
     "execution_count": 32,
     "metadata": {},
     "output_type": "execute_result"
    }
   ],
   "source": [
    "# pop : 리스트의 지정한 위치의 원소 삭제\n",
    "x = [0, 2, 4, 6, 8]\n",
    "x.pop(1)\n",
    "x"
   ]
  },
  {
   "cell_type": "code",
   "execution_count": 34,
   "id": "552b888c",
   "metadata": {},
   "outputs": [
    {
     "data": {
      "text/plain": [
       "[0, 2, 4, 8]"
      ]
     },
     "execution_count": 34,
     "metadata": {},
     "output_type": "execute_result"
    }
   ],
   "source": [
    "# remove : 리스트에 들어있는 원소 중 지정한 원소 삭제\n",
    "x = [0, 2, 4, 6, 8]\n",
    "x.remove(6)\n",
    "x"
   ]
  },
  {
   "cell_type": "code",
   "execution_count": 38,
   "id": "48080ca0",
   "metadata": {},
   "outputs": [
    {
     "name": "stdout",
     "output_type": "stream",
     "text": [
      "100,000,000,000\n",
      "1.000000e+11\n",
      "174876e800\n",
      "00000000010,000.0000\n",
      "10,000.0000000000000\n",
      "000,000,010,000.0000\n"
     ]
    }
   ],
   "source": [
    "# format(value, format_spec)\n",
    "\n",
    "# 단위 : 원\n",
    "print(format(100000000000, ','))\n",
    "\n",
    "# 지수\n",
    "print(format(100000000000, 'e'))\n",
    "\n",
    "# 16진수\n",
    "print(format(100000000000, 'x'))\n",
    "\n",
    "# 오른쪽, 왼쪽 , 가운데\n",
    "print(format(10000, '0>020,.4f'))\n",
    "print(format(10000, '0<020,.4f'))\n",
    "print(format(10000, '0=020,.4f'))"
   ]
  },
  {
   "cell_type": "code",
   "execution_count": 43,
   "id": "decbae11",
   "metadata": {},
   "outputs": [
    {
     "name": "stdout",
     "output_type": "stream",
     "text": [
      "[0, 2, 4, 6, 8, 10, 12, 14, 16, 18]\n",
      "[0, 2, 4, 6, 8, 10, 12, 14, 16, 18]\n",
      "[0, 2, 4, 6, 8, 10, 12, 14, 16, 18]\n"
     ]
    }
   ],
   "source": [
    "# filter(function, iterable)\n",
    "# 각 요소가 true인지 아닌지 확인 후 출력\n",
    "\n",
    "# 1\n",
    "def hojun(value):\n",
    "    if value % 2 == 0:\n",
    "        return True\n",
    "    else:\n",
    "        return False\n",
    "print(list(filter(hojun, range(20))))\n",
    "\n",
    "# 2\n",
    "print(list(filter(lambda x : x % 2 == 0, range(20))))\n",
    "\n",
    "# 3\n",
    "print([i for i in range(20) if i % 2 == 0])"
   ]
  },
  {
   "cell_type": "code",
   "execution_count": 44,
   "id": "dcb7fd35",
   "metadata": {},
   "outputs": [],
   "source": [
    "# map(function, iterable, ...)\n",
    "# 주어진 function를 iterable의 각 항목에 적용하고 결과 목록을 출력"
   ]
  },
  {
   "cell_type": "code",
   "execution_count": 45,
   "id": "5bc77409",
   "metadata": {},
   "outputs": [
    {
     "name": "stdout",
     "output_type": "stream",
     "text": [
      "[('a', 1), ('b', 3), ('c', 2)]\n"
     ]
    }
   ],
   "source": [
    "# zip(*iterables)\n",
    "# iterables을 가져와 튜플로 집계하여 출력\n",
    "\n",
    "x = ['a', 'b', 'c']\n",
    "y = [1, 3, 2]\n",
    "\n",
    "z = list(zip(x, y))\n",
    "print(z)"
   ]
  },
  {
   "cell_type": "code",
   "execution_count": 47,
   "id": "8ab5b8ac",
   "metadata": {},
   "outputs": [
    {
     "name": "stdout",
     "output_type": "stream",
     "text": [
      "2\n",
      "5\n",
      "7\n",
      "8\n"
     ]
    },
    {
     "data": {
      "text/plain": [
       "<queue.Queue at 0x7fa55dca6370>"
      ]
     },
     "execution_count": 47,
     "metadata": {},
     "output_type": "execute_result"
    }
   ],
   "source": [
    "# Quque\n",
    "import queue\n",
    "\n",
    "q = queue.Queue()\n",
    "q.put(2)\n",
    "q.put(5)\n",
    "q.put(7)\n",
    "q.put(8)\n",
    "print(q.get())\n",
    "print(q.get())\n",
    "print(q.get())\n",
    "print(q.get())"
   ]
  },
  {
   "cell_type": "code",
   "execution_count": 57,
   "id": "7edd3e93",
   "metadata": {},
   "outputs": [
    {
     "ename": "TabError",
     "evalue": "inconsistent use of tabs and spaces in indentation (4141421726.py, line 15)",
     "output_type": "error",
     "traceback": [
      "\u001b[0;36m  Input \u001b[0;32mIn [57]\u001b[0;36m\u001b[0m\n\u001b[0;31m    def printq(self):\u001b[0m\n\u001b[0m    ^\u001b[0m\n\u001b[0;31mTabError\u001b[0m\u001b[0;31m:\u001b[0m inconsistent use of tabs and spaces in indentation\n"
     ]
    }
   ],
   "source": [
    "# List Queue\n",
    "\n",
    "class listq():\n",
    "    def __init__(self):\n",
    "        self.queue = []\n",
    "    \n",
    "    def push(self, n ):\n",
    "        return self.queue.append(n)\n",
    "        \n",
    "    def pop(self):\n",
    "        if len(self.queue) == 0:\n",
    "            return -1\n",
    "        return self.queue.pop(0) \n",
    "\n",
    "\tdef printq(self):\n",
    "        print(self.queue)\n",
    "    \n",
    "    def empty(self):\n",
    "        if len(self.queue) == 0:\n",
    "            return print('Yes')\n",
    "        return print('No')\n",
    "\n",
    "queue= listq()\n",
    "queue.push(1)\n",
    "queue.push(2)\n",
    "queue.push(3)\n",
    "queue.empty()\n",
    "queue.printq()\n",
    "print(queue.pop())\n",
    "print(queue.pop())\n",
    "print(queue.pop())\n",
    "print(queue.pop())"
   ]
  },
  {
   "cell_type": "code",
   "execution_count": 66,
   "id": "0b64f7d6",
   "metadata": {},
   "outputs": [
    {
     "data": {
      "text/plain": [
       "[]"
      ]
     },
     "execution_count": 66,
     "metadata": {},
     "output_type": "execute_result"
    }
   ],
   "source": [
    "# stack\n",
    "l = []\n",
    "\n",
    "l.append(10)\n",
    "l.append(20)\n",
    "l.append(30)\n",
    "l.pop()\n",
    "l.pop()\n",
    "l.pop()\n",
    "l\n",
    "# l.append()"
   ]
  },
  {
   "cell_type": "code",
   "execution_count": 68,
   "id": "bce930a2",
   "metadata": {},
   "outputs": [
    {
     "name": "stdout",
     "output_type": "stream",
     "text": [
      "{'C'}\n",
      "{'A', 'B'}\n"
     ]
    }
   ],
   "source": [
    "판콜에이 = {'A', 'B', 'C'}\n",
    "타이레놀 = {'A', 'B', 'D'}\n",
    "\n",
    "print(판콜에이.difference(타이레놀))    # 차집합\n",
    "print(판콜에이.intersection(타이레놀))  # 교집합\n",
    "print(판콜에이.union(타이레놀))         # 합집합"
   ]
  },
  {
   "cell_type": "code",
   "execution_count": 69,
   "id": "f30e59d2",
   "metadata": {},
   "outputs": [
    {
     "name": "stdout",
     "output_type": "stream",
     "text": [
      "개리 3\n",
      "자바독 2\n",
      "썬 1\n",
      "파이 1\n",
      "라이캣 2\n"
     ]
    },
    {
     "data": {
      "text/plain": [
       "{'개리': 3, '자바독': 2, '썬': 1, '파이': 1, '라이캣': 2}"
      ]
     },
     "execution_count": 69,
     "metadata": {},
     "output_type": "execute_result"
    }
   ],
   "source": [
    "# 단톡방에 x마리의 동물이 대화를 하고 있습니다.\n",
    "# 각각의 동물들이 톡을 전송할 때마다 서버에는 아래와 같이 저장됩니다.\n",
    "# 1. 단톡방에는 모두 몇 마리의 동물이 있을까요? 톡은 무조건 1회 이상 전송합니다.\n",
    "# 2. 단톡방에 동물들마다 몇 번의 톡을 올렸을까요?\n",
    "\n",
    "serverData = '개리 라이캣 개리 개리 라이캣 자바독 자바독 파이 썬'\n",
    "\n",
    "d = {}\n",
    "\n",
    "for i in set(serverData.split()):\n",
    "    print(i, serverData.split().count(i))\n",
    "    d[i] = serverData.split().count(i)\n",
    "d"
   ]
  },
  {
   "cell_type": "code",
   "execution_count": 70,
   "id": "69856a0a",
   "metadata": {},
   "outputs": [
    {
     "data": {
      "text/plain": [
       "{'1', '2', '3', '4', '5', '6'}"
      ]
     },
     "execution_count": 70,
     "metadata": {},
     "output_type": "execute_result"
    }
   ],
   "source": [
    "# set(iterable)\n",
    "\n",
    "s = set('11122345666')\n",
    "s"
   ]
  },
  {
   "cell_type": "code",
   "execution_count": 71,
   "id": "4303f43e",
   "metadata": {},
   "outputs": [
    {
     "name": "stdout",
     "output_type": "stream",
     "text": [
      "(0, 'one')\n",
      "(1, 'two')\n",
      "(2, 'three')\n"
     ]
    }
   ],
   "source": [
    "# enumerate(iterable, start=0)\n",
    "# index, value 를 추출\n",
    "\n",
    "x = ['one', 'two', 'three']\n",
    "\n",
    "for iterable in enumerate(x):\n",
    "    print(iterable)"
   ]
  },
  {
   "cell_type": "code",
   "execution_count": null,
   "id": "5854e7ac",
   "metadata": {},
   "outputs": [],
   "source": [
    "# abs() 절대값을 출력"
   ]
  }
 ],
 "metadata": {
  "kernelspec": {
   "display_name": "Python 3 (ipykernel)",
   "language": "python",
   "name": "python3"
  },
  "language_info": {
   "codemirror_mode": {
    "name": "ipython",
    "version": 3
   },
   "file_extension": ".py",
   "mimetype": "text/x-python",
   "name": "python",
   "nbconvert_exporter": "python",
   "pygments_lexer": "ipython3",
   "version": "3.9.12"
  }
 },
 "nbformat": 4,
 "nbformat_minor": 5
}
